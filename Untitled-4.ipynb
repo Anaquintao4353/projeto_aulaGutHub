{
 "cells": [
  {
   "cell_type": "code",
   "execution_count": 2,
   "metadata": {},
   "outputs": [
    {
     "name": "stdout",
     "output_type": "stream",
     "text": [
      "11\n"
     ]
    }
   ],
   "source": [
    "def calculadora (num1, num2, operad):\n",
    "    if (operad == 1):\n",
    "        return num1 + num2\n",
    "    elif (operad == 2) :\n",
    "        return num1 - num2\n",
    "    elif (operad == 3):\n",
    "        return num1 * num2\n",
    "    elif (operad == 4) :\n",
    "        return num1 / num2\n",
    "    else: \n",
    "        return 0\n",
    "resultado = calculadora(4,7,1)\n",
    "print(resultado)"
   ]
  },
  {
   "cell_type": "code",
   "execution_count": 3,
   "metadata": {},
   "outputs": [
    {
     "name": "stdout",
     "output_type": "stream",
     "text": [
      "Qual operação você deseja realizar?\n",
      "1 = Soma 2 = Subtração 3 = Multiplicação 4 = Divisão 0 = Sair\n",
      "Essa opção não existe\n",
      "Qual operação você deseja realizar?\n",
      "1 = Soma 2 = Subtração 3 = Multiplicação 4 = Divisão 0 = Sair\n",
      "Insira o primeiro número da operação:\n",
      "Insira o segundo número da operação:\n",
      "O resultado é: 50.0\n",
      "Qual operação você deseja realizar?\n",
      "1 = Soma 2 = Subtração 3 = Multiplicação 4 = Divisão 0 = Sair\n"
     ]
    }
   ],
   "source": [
    "def calculadora (num1, num2, operad):\n",
    "    if (operad == 1):\n",
    "        return num1 + num2\n",
    "    elif (operad == 2) :\n",
    "        return num1 - num2\n",
    "    elif (operad == 3):\n",
    "        return num1 * num2\n",
    "    elif (operad == 4) :\n",
    "        return num1 / num2\n",
    "    else: \n",
    "        return 0\n",
    "    \n",
    "executar = True \n",
    "\n",
    "while (executar == True) :\n",
    "    print (\"Qual operação você deseja realizar?\")\n",
    "    print (\"1 = Soma 2 = Subtração 3 = Multiplicação 4 = Divisão 0 = Sair\")\n",
    "    operacao = int (input())\n",
    "    if (operacao < 0) or (operacao > 4) :\n",
    "        print (\"Essa opção não existe\")\n",
    "    elif(operacao == 0) :\n",
    "        executar = False\n",
    "    else:\n",
    "        print(\"Insira o primeiro número da operação:\")\n",
    "        num1 = int(input())\n",
    "        print(\"Insira o segundo número da operação:\")\n",
    "        num2 = int(input())\n",
    "        resultado = calculadora(num1,num2,operacao)\n",
    "        print(\"O resultado é:\", resultado)"
   ]
  },
  {
   "cell_type": "code",
   "execution_count": 22,
   "metadata": {},
   "outputs": [
    {
     "name": "stdout",
     "output_type": "stream",
     "text": [
      "Qual o seu nome completo?\n",
      "Qual o ano do seu nascimento?\n",
      "Essa data não é válida\n",
      "Qual o ano do seu nascimento?\n",
      "O ano deve ser escrito apenas com numerais\n",
      "Qual o ano do seu nascimento?\n",
      "O usuário  Ana completou ou completará, 25 anos de idade em 2022\n"
     ]
    }
   ],
   "source": [
    "print (\"Qual o seu nome completo?\")\n",
    "nome = (input())\n",
    "\n",
    "executar = True \n",
    "\n",
    "while (executar == True):\n",
    "\n",
    "    print (\"Qual o ano do seu nascimento?\")\n",
    "    try:\n",
    "        ano = int(input())\n",
    "        if (ano < 1922) or (ano > 2021) :\n",
    "            print (\"Essa data não é válida\")\n",
    "        else:\n",
    "            idade = 2022 - ano\n",
    "            print(\"O usuário \",nome, \"completou ou completará,\",idade, \"anos de idade em 2022\")\n",
    "            executar = False\n",
    "    except:\n",
    "        print (\"O ano deve ser escrito apenas com numerais\")"
   ]
  }
 ],
 "metadata": {
  "kernelspec": {
   "display_name": "Python 3",
   "language": "python",
   "name": "python3"
  },
  "language_info": {
   "codemirror_mode": {
    "name": "ipython",
    "version": 3
   },
   "file_extension": ".py",
   "mimetype": "text/x-python",
   "name": "python",
   "nbconvert_exporter": "python",
   "pygments_lexer": "ipython3",
   "version": "3.12.1"
  }
 },
 "nbformat": 4,
 "nbformat_minor": 2
}
