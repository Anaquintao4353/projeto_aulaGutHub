{
 "cells": [
  {
   "cell_type": "markdown",
   "metadata": {},
   "source": [
    "definição de formula + condições de variáveis = usando input do usuário"
   ]
  },
  {
   "cell_type": "code",
   "execution_count": 2,
   "metadata": {},
   "outputs": [
    {
     "name": "stdout",
     "output_type": "stream",
     "text": [
      "Escreva um número maior do que 0 e menor do que 100\n",
      "Você precisa informar um número maior que zero e menor que 100\n",
      "Você precisa digitar um número válido\n",
      "Boa! Você informou o número: 2\n"
     ]
    }
   ],
   "source": [
    "def mostrar_numero ():\n",
    "    print(\"Escreva um número maior do que 0 e menor do que 100\")\n",
    "    numeroValido = False\n",
    "\n",
    "    while(numeroValido == False):\n",
    "        try:\n",
    "            num = int(input())\n",
    "            if (num < 100 and num > 0):\n",
    "                print(\"Boa! Você informou o número: \" + str(num))\n",
    "                numeroValido = True\n",
    "            else:\n",
    "                print(\"Você precisa informar um número maior que zero e menor que 100\")\n",
    "        except:\n",
    "            print(\"Você precisa digitar um número válido\")\n",
    "mostrar_numero()"
   ]
  },
  {
   "cell_type": "code",
   "execution_count": 4,
   "metadata": {},
   "outputs": [
    {
     "name": "stdout",
     "output_type": "stream",
     "text": [
      "Escreva um número maior do que 0 e menor do que 100 que seja divisível por 2\n",
      "Você precisa informar um número maior do que 0 e menor do que 100\n",
      "Você precisa informar um número divisível por 2\n",
      "Você precisa digitar um número válido\n",
      "Boa! Você informou um número maior do que zero, menor do que cem e que é divisível por 2: 2\n"
     ]
    }
   ],
   "source": [
    "def mostrar_numero ():\n",
    "    print(\"Escreva um número maior do que 0 e menor do que 100 que seja divisível por 2\")\n",
    "    numeroValido = False\n",
    "\n",
    "    while(numeroValido == False):\n",
    "        try:\n",
    "            num = int(input())\n",
    "            if (num < 100 and num > 0):\n",
    "                    if (num % 2== 0):\n",
    "                        print(\"Boa! Você informou um número maior do que zero, menor do que cem e que é divisível por 2: \" + str(num))\n",
    "                        numeroValido = True\n",
    "                    else:\n",
    "                         print(\"Você precisa informar um número divisível por 2\")\n",
    "            else:\n",
    "                        print(\"Você precisa informar um número maior do que 0 e menor do que 100\")\n",
    "        except:\n",
    "            print(\"Você precisa digitar um número válido\")\n",
    "mostrar_numero()"
   ]
  },
  {
   "cell_type": "code",
   "execution_count": 1,
   "metadata": {},
   "outputs": [
    {
     "name": "stdout",
     "output_type": "stream",
     "text": [
      "Escreva um número maior do que 0 e menor do que 100 que seja divizível por 3\n",
      "Você precisa informar um número maior do que 0 e menor do que 100 que seja divizível por 3\n",
      "Você precisa informar um número maior do que 0 e menor do que 100 que seja divizível por 3\n",
      "Você precisa informar um número maior do que 0 e menor do que 100 que seja divizível por 3\n",
      "Boa! Você informou o número: 3\n"
     ]
    }
   ],
   "source": [
    "def mostrar_numero ():\n",
    "    print(\"Escreva um número maior do que 0 e menor do que 100 que seja divizível por 3\")\n",
    "    numeroValido = False\n",
    "\n",
    "    while(numeroValido == False):\n",
    "        try:\n",
    "            num = int(input())\n",
    "            if (num % 3== 0 and num < 100 and num > 0):\n",
    "                    print(\"Boa! Você informou o número: \" + str(num))\n",
    "                    numeroValido = True\n",
    "            else:\n",
    "                    print(\"Você precisa informar um número maior do que 0 e menor do que 100 que seja divizível por 3\")\n",
    "        except:\n",
    "            print(\"Você precisa digitar um número válido\")\n",
    "mostrar_numero()"
   ]
  },
  {
   "cell_type": "code",
   "execution_count": 4,
   "metadata": {},
   "outputs": [
    {
     "name": "stdout",
     "output_type": "stream",
     "text": [
      "28\n"
     ]
    }
   ],
   "source": [
    "def calculadora (num1, num2, operad):\n",
    "    if (operad == 1):\n",
    "        return num1 + num2\n",
    "    elif (operad == 2) :\n",
    "        return num1 - num2\n",
    "    elif (operad == 3):\n",
    "        return num1 * num2\n",
    "    elif (operad == 4) :\n",
    "        return num1 / num2\n",
    "    else: \n",
    "        return 0\n",
    "resultado = calculadora(4,7,3)\n",
    "print(resultado)\n",
    "\n",
    "    "
   ]
  }
 ],
 "metadata": {
  "kernelspec": {
   "display_name": "Python 3",
   "language": "python",
   "name": "python3"
  },
  "language_info": {
   "codemirror_mode": {
    "name": "ipython",
    "version": 3
   },
   "file_extension": ".py",
   "mimetype": "text/x-python",
   "name": "python",
   "nbconvert_exporter": "python",
   "pygments_lexer": "ipython3",
   "version": "3.12.1"
  }
 },
 "nbformat": 4,
 "nbformat_minor": 2
}
