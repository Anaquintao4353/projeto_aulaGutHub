{
 "cells": [
  {
   "cell_type": "code",
   "execution_count": 12,
   "metadata": {},
   "outputs": [
    {
     "name": "stdout",
     "output_type": "stream",
     "text": [
      "O que deseja fazer: Digite o número: \n",
      "1. Ver produtos em estoque\n",
      "2. Alterar produto\n",
      "3. Adicionar um produto\n",
      "4. Fechar o sistema\n",
      "Qual produto deseja incluir:\n"
     ]
    },
    {
     "ename": "AttributeError",
     "evalue": "'list' object attribute 'append' is read-only",
     "output_type": "error",
     "traceback": [
      "\u001b[1;31m---------------------------------------------------------------------------\u001b[0m",
      "\u001b[1;31mAttributeError\u001b[0m                            Traceback (most recent call last)",
      "Cell \u001b[1;32mIn[12], line 41\u001b[0m\n\u001b[0;32m     37\u001b[0m             \u001b[38;5;28mprint\u001b[39m(\u001b[38;5;124m\"\u001b[39m\u001b[38;5;124mEscolha uma opção válida\u001b[39m\u001b[38;5;124m\"\u001b[39m)\n\u001b[0;32m     39\u001b[0m produtos \u001b[38;5;241m=\u001b[39m [\u001b[38;5;124m\"\u001b[39m\u001b[38;5;124mCaneta\u001b[39m\u001b[38;5;124m\"\u001b[39m, \u001b[38;5;124m\"\u001b[39m\u001b[38;5;124mLapis\u001b[39m\u001b[38;5;124m\"\u001b[39m, \u001b[38;5;124m\"\u001b[39m\u001b[38;5;124mBorracha\u001b[39m\u001b[38;5;124m\"\u001b[39m, \u001b[38;5;124m\"\u001b[39m\u001b[38;5;124mCorretivo\u001b[39m\u001b[38;5;124m\"\u001b[39m]\n\u001b[1;32m---> 41\u001b[0m \u001b[43mmanipular_estoque\u001b[49m\u001b[43m \u001b[49m\u001b[43m(\u001b[49m\u001b[43mprodutos\u001b[49m\u001b[43m)\u001b[49m\n",
      "Cell \u001b[1;32mIn[12], line 29\u001b[0m, in \u001b[0;36mmanipular_estoque\u001b[1;34m(arr)\u001b[0m\n\u001b[0;32m     27\u001b[0m     \u001b[38;5;28mprint\u001b[39m(\u001b[38;5;124m\"\u001b[39m\u001b[38;5;124mQual produto deseja incluir:\u001b[39m\u001b[38;5;124m\"\u001b[39m)\n\u001b[0;32m     28\u001b[0m     produtoNovo \u001b[38;5;241m=\u001b[39m \u001b[38;5;28minput\u001b[39m()\n\u001b[1;32m---> 29\u001b[0m     \u001b[43mprodutos\u001b[49m\u001b[38;5;241;43m.\u001b[39;49m\u001b[43mappend\u001b[49m \u001b[38;5;241m=\u001b[39m produtoNovo\n\u001b[0;32m     30\u001b[0m     \u001b[38;5;28mprint\u001b[39m(\u001b[38;5;124m\"\u001b[39m\u001b[38;5;124mProduto \u001b[39m\u001b[38;5;124m\"\u001b[39m \u001b[38;5;241m+\u001b[39m produtoNovo \u001b[38;5;241m+\u001b[39m \u001b[38;5;124m\"\u001b[39m\u001b[38;5;124m adicionado com sucesso no estoque\u001b[39m\u001b[38;5;124m\"\u001b[39m)\n\u001b[0;32m     32\u001b[0m \u001b[38;5;28;01melif\u001b[39;00m acao \u001b[38;5;241m==\u001b[39m \u001b[38;5;124m\"\u001b[39m\u001b[38;5;124m4\u001b[39m\u001b[38;5;124m\"\u001b[39m:\n",
      "\u001b[1;31mAttributeError\u001b[0m: 'list' object attribute 'append' is read-only"
     ]
    }
   ],
   "source": [
    "def manipular_estoque(arr):\n",
    "    fechar = False\n",
    "\n",
    "    while (fechar == False):\n",
    "        print(\"O que deseja fazer: Digite o número: \")\n",
    "        print(\"1. Ver produtos em estoque\")\n",
    "        print(\"2. Alterar produto\")\n",
    "        print(\"3. Adicionar um produto\")\n",
    "        print(\"4. Fechar o sistema\")\n",
    "\n",
    "        acao = input()\n",
    "\n",
    "        if acao == \"1\":\n",
    "            print(\"Produtos em estoque\")\n",
    "            for i in range(len(arr)):\n",
    "                print(str(i) + \" - \" + arr[i])\n",
    "\n",
    "        elif acao == \"2\":\n",
    "            print(\"Qual indice do produto deseja alterar:\")\n",
    "            indice = int(input())\n",
    "            print(\"Qual o novo produto:\")\n",
    "            produtoedit = input()\n",
    "            arr[indice] = produtoedit\n",
    "            print(\"Produto \" + produtoedit + \" adicionado com sucesso no estoque\")\n",
    "\n",
    "        elif acao == \"3\":\n",
    "            print(\"Qual produto deseja incluir:\")\n",
    "            produtos.append = [produtoNovo]\n",
    "            print(\"Produto \" + [produtoNovo] + \" adicionado com sucesso no estoque\")\n",
    "\n",
    "        elif acao == \"4\":\n",
    "            print(\"Fechando o sistema\")\n",
    "            fechar = True\n",
    "\n",
    "        else:\n",
    "            print(\"Escolha uma opção válida\")\n",
    "\n",
    "produtos = [\"Caneta\", \"Lapis\", \"Borracha\", \"Corretivo\"]\n",
    "\n",
    "manipular_estoque (produtos)\n",
    "\n"
   ]
  }
 ],
 "metadata": {
  "kernelspec": {
   "display_name": "Python 3",
   "language": "python",
   "name": "python3"
  },
  "language_info": {
   "codemirror_mode": {
    "name": "ipython",
    "version": 3
   },
   "file_extension": ".py",
   "mimetype": "text/x-python",
   "name": "python",
   "nbconvert_exporter": "python",
   "pygments_lexer": "ipython3",
   "version": "3.12.1"
  }
 },
 "nbformat": 4,
 "nbformat_minor": 2
}
