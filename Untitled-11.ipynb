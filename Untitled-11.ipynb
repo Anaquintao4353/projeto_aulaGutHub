{
 "cells": [
  {
   "cell_type": "code",
   "execution_count": 34,
   "metadata": {},
   "outputs": [
    {
     "ename": "SyntaxError",
     "evalue": "invalid syntax (4089565245.py, line 3)",
     "output_type": "error",
     "traceback": [
      "\u001b[1;36m  Cell \u001b[1;32mIn[34], line 3\u001b[1;36m\u001b[0m\n\u001b[1;33m    if ==13;\u001b[0m\n\u001b[1;37m       ^\u001b[0m\n\u001b[1;31mSyntaxError\u001b[0m\u001b[1;31m:\u001b[0m invalid syntax\n"
     ]
    }
   ],
   "source": [
    "for i in range(1,21):\n",
    "    andar = str(i)\n",
    "    if ==13;\n",
    "    print(andar)"
   ]
  },
  {
   "cell_type": "code",
   "execution_count": 40,
   "metadata": {},
   "outputs": [
    {
     "name": "stdout",
     "output_type": "stream",
     "text": [
      "1\n",
      "2\n",
      "3\n",
      "4\n",
      "5\n",
      "6\n",
      "7\n",
      "8\n",
      "9\n",
      "10\n",
      "11\n",
      "12\n",
      "14\n",
      "15\n",
      "16\n",
      "17\n",
      "18\n",
      "19\n",
      "20\n"
     ]
    }
   ],
   "source": [
    "for andar in range(1,21, 1):\n",
    "    if andar != 13:\n",
    "        print(andar)"
   ]
  },
  {
   "cell_type": "code",
   "execution_count": 52,
   "metadata": {},
   "outputs": [
    {
     "name": "stdout",
     "output_type": "stream",
     "text": [
      "20\n",
      "19\n",
      "18\n",
      "17\n",
      "16\n",
      "15\n",
      "14\n",
      "12\n",
      "11\n",
      "10\n",
      "9\n",
      "8\n",
      "7\n",
      "6\n",
      "5\n",
      "4\n",
      "3\n",
      "2\n",
      "1\n"
     ]
    }
   ],
   "source": [
    "andar = 20\n",
    "while andar > 0:\n",
    "    if andar == 13:\n",
    "        andar -= 1\n",
    "        continue\n",
    "    print(andar)\n",
    "    andar -= 1\n"
   ]
  },
  {
   "cell_type": "code",
   "execution_count": 51,
   "metadata": {},
   "outputs": [
    {
     "name": "stdout",
     "output_type": "stream",
     "text": [
      "20\n",
      "19\n",
      "18\n",
      "17\n",
      "16\n",
      "15\n",
      "14\n",
      "12\n",
      "11\n",
      "10\n",
      "9\n",
      "8\n",
      "7\n",
      "6\n",
      "5\n",
      "4\n",
      "3\n",
      "2\n",
      "1\n"
     ]
    }
   ],
   "source": [
    "andar = 20\n",
    "while andar >= 1:\n",
    "    if andar != 13:\n",
    "        print(andar)\n",
    "    andar -= 1\n"
   ]
  },
  {
   "cell_type": "code",
   "execution_count": 9,
   "metadata": {},
   "outputs": [
    {
     "name": "stdout",
     "output_type": "stream",
     "text": [
      "Regue a planta 0\n",
      "Regue a planta 1\n",
      "Regue a planta 2\n",
      "Regue a planta 3\n",
      "Regue a planta 4\n",
      "Regue a planta 5\n"
     ]
    }
   ],
   "source": [
    "contador = 0\n",
    "while (contador < 6):\n",
    "  planta = contador\n",
    "  print(\"Regue a planta\", planta)\n",
    "  contador = contador + 1"
   ]
  },
  {
   "cell_type": "code",
   "execution_count": 11,
   "metadata": {},
   "outputs": [
    {
     "name": "stdout",
     "output_type": "stream",
     "text": [
      "Regue a planta 0\n",
      "Regue a planta 2\n",
      "Regue a planta 4\n"
     ]
    }
   ],
   "source": [
    "for i in range(0,6,2):\n",
    "    planta_atual = str(i)\n",
    "    print(\"Regue a planta \" + planta_atual)"
   ]
  },
  {
   "cell_type": "code",
   "execution_count": 16,
   "metadata": {},
   "outputs": [
    {
     "name": "stdout",
     "output_type": "stream",
     "text": [
      "Regue a planta 0\n",
      "Regue a planta 2\n",
      "Regue a planta 4\n"
     ]
    }
   ],
   "source": [
    "andar = 0\n",
    "while (andar < 20):\n",
    "  planta = contador\n",
    "  print(\"Regue a planta\", planta)\n",
    "  contador = contador + 2"
   ]
  },
  {
   "cell_type": "code",
   "execution_count": 17,
   "metadata": {},
   "outputs": [
    {
     "name": "stdout",
     "output_type": "stream",
     "text": [
      "A planta a ser regada 0\n",
      "A planta a ser regada 2\n",
      "A planta a ser regada 4\n"
     ]
    }
   ],
   "source": [
    "planta_atual = 0\n",
    "while (planta_atual < 6):\n",
    "    if(planta_atual == 0, 2, 4):\n",
    "        print(\"A planta a ser regada \" + str(planta_atual))\n",
    "        planta_atual += 2"
   ]
  },
  {
   "cell_type": "code",
   "execution_count": 2,
   "metadata": {},
   "outputs": [
    {
     "name": "stdout",
     "output_type": "stream",
     "text": [
      "Regue a planta 13\n"
     ]
    }
   ],
   "source": [
    "i = 0\n",
    "while i < 20:\n",
    "    if i == 13:\n",
    "        planta_atual = str(i)\n",
    "        print(\"Regue a planta \" + planta_atual)\n",
    "    i += 1"
   ]
  },
  {
   "cell_type": "code",
   "execution_count": 19,
   "metadata": {},
   "outputs": [
    {
     "name": "stdout",
     "output_type": "stream",
     "text": [
      "Regue a planta 0\n",
      "Regue a planta 2\n",
      "Regue a planta 4\n"
     ]
    }
   ],
   "source": [
    "i = 0\n",
    "while i < 6:\n",
    "    if i % 2 == 0:\n",
    "        planta_atual = str(i)\n",
    "        print(\"Regue a planta \" + planta_atual)\n",
    "    i += 1"
   ]
  },
  {
   "cell_type": "code",
   "execution_count": 23,
   "metadata": {},
   "outputs": [
    {
     "name": "stdout",
     "output_type": "stream",
     "text": [
      "Regue a planta 5\n",
      "Regue a planta 4\n",
      "Regue a planta 3\n",
      "Regue a planta 2\n",
      "Regue a planta 1\n"
     ]
    }
   ],
   "source": [
    "for i in range(5,0,-1):\n",
    "    planta_atual = str(i)\n",
    "    print(\"Regue a planta \" + planta_atual)"
   ]
  },
  {
   "cell_type": "code",
   "execution_count": 42,
   "metadata": {},
   "outputs": [
    {
     "name": "stdout",
     "output_type": "stream",
     "text": [
      "5 X 10 = 50\n"
     ]
    }
   ],
   "source": [
    "def multi(num1, num2):\n",
    "    resultado = num1 * num2\n",
    "    frase = str(num1) + \" X \" + str(num2) + \" = \" + str(resultado)\n",
    "    return frase\n",
    "print(multi(5,10))\n"
   ]
  },
  {
   "cell_type": "code",
   "execution_count": 47,
   "metadata": {},
   "outputs": [
    {
     "name": "stdout",
     "output_type": "stream",
     "text": [
      "9 X 1 = 9\n",
      "9 X 2 = 18\n",
      "9 X 3 = 27\n",
      "9 X 4 = 36\n",
      "9 X 5 = 45\n",
      "9 X 6 = 54\n",
      "9 X 7 = 63\n",
      "9 X 8 = 72\n",
      "9 X 9 = 81\n",
      "9 X 10 = 90\n"
     ]
    }
   ],
   "source": [
    "for i in range(1, 11):\n",
    "    resultado = multi(9, i)\n",
    "    print(resultado)"
   ]
  }
 ],
 "metadata": {
  "kernelspec": {
   "display_name": "Python 3",
   "language": "python",
   "name": "python3"
  },
  "language_info": {
   "codemirror_mode": {
    "name": "ipython",
    "version": 3
   },
   "file_extension": ".py",
   "mimetype": "text/x-python",
   "name": "python",
   "nbconvert_exporter": "python",
   "pygments_lexer": "ipython3",
   "version": "3.12.1"
  }
 },
 "nbformat": 4,
 "nbformat_minor": 2
}
