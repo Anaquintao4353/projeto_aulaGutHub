{
 "cells": [
  {
   "cell_type": "code",
   "execution_count": 13,
   "metadata": {},
   "outputs": [
    {
     "name": "stdout",
     "output_type": "stream",
     "text": [
      "A loja de construção possui os seguintes produtos: \n",
      "['Cimento', 'Areia', 'Argamassa', 'Tijolo', 'Piso']\n",
      "Os nomes e ano de nascimento dos meus irmãos são: \n",
      "['Ana - 1997', 'Isabella - 1995', 'Maria - 2005', 'Luiz - 2004']\n"
     ]
    }
   ],
   "source": [
    "lista_materiais = [\"Cimento\", \"Areia\", \"Argamassa\", \"Tijolo\", \"Piso\"]\n",
    "print(\"A loja de construção possui os seguintes produtos: \" )\n",
    "print(lista_materiais)\n",
    "\n",
    "\n",
    "listaNomes_ano = [\"Ana - 1997\", \"Isabella - 1995\", \"Maria - 2005\", \"Luiz - 2004\"]\n",
    "print(\"Os nomes e ano de nascimento dos meus irmãos são: \" )\n",
    "print(listaNomes_ano)\n",
    "\n"
   ]
  },
  {
   "cell_type": "code",
   "execution_count": 15,
   "metadata": {},
   "outputs": [
    {
     "name": "stdout",
     "output_type": "stream",
     "text": [
      "15\n",
      "Elis Regina\n",
      "Moacir Santos\n",
      "Gal Costa\n"
     ]
    }
   ],
   "source": [
    "lista_musicos = [ 'Djavan', 'Roberto Carlos', 'Elis Regina', 'Tom Jobim', 'Milton Nascimento', 'Chico Buarque', 'Nara Leão', 'Pitty', 'Simonal', 'Moacir Santos', 'Caetano Veloso', 'Elza Soares', 'Paulinho da Viola', 'Yamandú Costa', 'Gal Costa'] \n",
    "print(len(lista_musicos))\n",
    "print(lista_musicos[2])\n",
    "print(lista_musicos[9])\n",
    "print(lista_musicos[14])"
   ]
  },
  {
   "cell_type": "code",
   "execution_count": 20,
   "metadata": {},
   "outputs": [
    {
     "name": "stdout",
     "output_type": "stream",
     "text": [
      "Temos máscaras faciais à venda!\n",
      "Temos batons à venda!\n",
      "Temos esmaltes à venda!\n",
      "Temos perfumes à venda!\n",
      "Temos loções à venda!\n",
      "Temos xampus à venda!\n",
      "Temos sabonetes à venda!\n",
      "Temos delineadores à venda!\n"
     ]
    }
   ],
   "source": [
    "lista_produtos = ['máscaras faciais', 'batons', 'esmaltes', 'perfumes', 'loções', 'xampus', 'sabonetes', 'delineadores'] \n",
    "for i in range(len(lista_produtos)):\n",
    "    print (\"Temos \" + (lista_produtos[i]) + \" à venda!\")\n"
   ]
  },
  {
   "cell_type": "code",
   "execution_count": 19,
   "metadata": {},
   "outputs": [
    {
     "name": "stdout",
     "output_type": "stream",
     "text": [
      "Temos máscaras faciais à venda!\n",
      "Temos Rímel à venda!\n",
      "Temos esmaltes à venda!\n",
      "Temos perfumes à venda!\n",
      "Temos Cremes hidratantes à venda!\n",
      "Temos xampus à venda!\n",
      "Temos sabonetes à venda!\n",
      "['máscaras faciais', 'Rímel', 'esmaltes', 'perfumes', 'Cremes hidratantes', 'xampus', 'sabonetes']\n"
     ]
    }
   ],
   "source": [
    "lista_produtos = ['máscaras faciais', 'batons', 'esmaltes', 'perfumes', 'loções', 'xampus', 'sabonetes', 'delineadores'] \n",
    "\n",
    "lista_produtos[1] = (\"Rímel\")\n",
    "lista_produtos[4] = (\"Cremes hidratantes\")\n",
    "lista_produtos.pop()\n",
    "for i in range(len(lista_produtos)):\n",
    "    print (\"Temos \" + (lista_produtos[i]) + \" à venda!\")\n",
    "\n",
    "\n",
    "\n",
    "print(lista_produtos)\n"
   ]
  }
 ],
 "metadata": {
  "kernelspec": {
   "display_name": "Python 3",
   "language": "python",
   "name": "python3"
  },
  "language_info": {
   "codemirror_mode": {
    "name": "ipython",
    "version": 3
   },
   "file_extension": ".py",
   "mimetype": "text/x-python",
   "name": "python",
   "nbconvert_exporter": "python",
   "pygments_lexer": "ipython3",
   "version": "3.12.1"
  }
 },
 "nbformat": 4,
 "nbformat_minor": 2
}
