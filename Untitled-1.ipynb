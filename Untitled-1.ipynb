{
 "cells": [
  {
   "cell_type": "code",
   "execution_count": 54,
   "metadata": {},
   "outputs": [
    {
     "name": "stdout",
     "output_type": "stream",
     "text": [
      "Suco\n",
      "<class 'str'>\n",
      "7.99\n",
      "<class 'float'>\n",
      "False\n",
      "<class 'bool'>\n",
      "Minha bebida favorita e o:Suco e ela custa: 7.99minha bebida não tem alcool\n"
     ]
    }
   ],
   "source": [
    "bebida_favorita = \"Suco\"\n",
    "print(bebida_favorita)\n",
    "print(type(bebida_favorita))\n",
    "\n",
    "bebida_preco = 7.99\n",
    "print(bebida_preco)\n",
    "print(type(bebida_preco))\n",
    "\n",
    "alcoolica = False\n",
    "print(alcoolica)\n",
    "print(type(alcoolica))\n",
    "\n",
    "if (not alcoolica == False): \n",
    "    bebida = \"Minha bebida não tem alcool\"\n",
    "else:\n",
    "    bebida = \"minha bebida não tem alcool\"\n",
    "print(\"Minha bebida favorita e o:\" + bebida_favorita + \" e ela custa: \" + str(bebida_preco) +  bebida)\n"
   ]
  },
  {
   "cell_type": "code",
   "execution_count": 45,
   "metadata": {},
   "outputs": [
    {
     "name": "stdout",
     "output_type": "stream",
     "text": [
      "36.98\n",
      "36.98\n",
      "3.020000000000003\n",
      "Meu orçamento é de: R$ 40 reais\n",
      "Após o almoco, irá me sobrar de troco: R$ 3.020000000000003\n",
      "Fazendo as contas, consigo comer minha sobremesa favorita: Pudim o preço dela é: R$ 8.99 ?\n"
     ]
    }
   ],
   "source": [
    "almoco_favorito = \"Parmegiana\"\n",
    "almoço_preco = 28.99\n",
    "orcamento_almoco = 40\n",
    "\n",
    "\n",
    "print(bebida_preco + almoço_preco)\n",
    "total_pedido = almoço_preco + bebida_preco\n",
    "print(total_pedido)\n",
    "troco = (orcamento_almoco - total_pedido)\n",
    "print(troco)\n",
    "print(\"Meu orçamento é de: R$\" , orcamento_almoco, \"reais\")\n",
    "print(\"Após o almoco, irá me sobrar de troco: R$\", troco)\n",
    "print(\"Fazendo as contas, consigo comer minha sobremesa favorita:\" , sobremesa_favorita, \"o preço dela é: R$\", sobremesa_preco, \"?\")\n",
    "\n",
    "sobremesa_favorita = \"Pudim\"\n",
    "sobremesa_preco = 8.99\n",
    "\n"
   ]
  },
  {
   "cell_type": "code",
   "execution_count": 43,
   "metadata": {},
   "outputs": [
    {
     "name": "stdout",
     "output_type": "stream",
     "text": [
      "Não vai dar para pagar, escolhe outra ou pede para seu amigo pagar!\n"
     ]
    }
   ],
   "source": [
    "if (troco >= sobremesa_preco) : \n",
    "    print(\"Pode pedir essa sobremesa!\")\n",
    "else:\n",
    "    print(\"Não vai dar para pagar, escolhe outra ou pede para seu amigo pagar!\")"
   ]
  },
  {
   "cell_type": "code",
   "execution_count": null,
   "metadata": {},
   "outputs": [],
   "source": []
  }
 ],
 "metadata": {
  "kernelspec": {
   "display_name": "Python 3",
   "language": "python",
   "name": "python3"
  },
  "language_info": {
   "codemirror_mode": {
    "name": "ipython",
    "version": 3
   },
   "file_extension": ".py",
   "mimetype": "text/x-python",
   "name": "python",
   "nbconvert_exporter": "python",
   "pygments_lexer": "ipython3",
   "version": "3.12.1"
  }
 },
 "nbformat": 4,
 "nbformat_minor": 2
}
